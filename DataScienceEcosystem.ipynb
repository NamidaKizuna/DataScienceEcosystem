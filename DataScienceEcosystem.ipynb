{
 "cells": [
  {
   "cell_type": "markdown",
   "id": "17891805-3718-4fb4-80b6-a1d3614d8fc1",
   "metadata": {},
   "source": [
    "<h1>Data Science Tools and Ecosystem\n"
   ]
  },
  {
   "cell_type": "markdown",
   "id": "a23063fa-ba82-46c0-a388-8139c62efa53",
   "metadata": {},
   "source": [
    "In this note book,Data science Tools and Ecosystem are summarized"
   ]
  },
  {
   "cell_type": "markdown",
   "id": "d8bead52-3e59-4a3d-b744-ffffc3ffedd2",
   "metadata": {},
   "source": [
    "Some of the popular languages that Data Scientists use are:\n",
    "1. Python\n",
    "2. R\n",
    "3. SQL"
   ]
  },
  {
   "cell_type": "markdown",
   "id": "1d680617-84d7-49d1-a1f0-b5364b83c8bb",
   "metadata": {},
   "source": [
    "Some of the commonly used libraries used by Data Scientists include:\n",
    "1. Pandas.\n",
    "2. Keras.\n",
    "3. Pytorch."
   ]
  },
  {
   "cell_type": "markdown",
   "id": "08a7f79b-f930-4e63-bf1e-ad9909c0444e",
   "metadata": {},
   "source": [
    "|Data science tolls|\n",
    "|---|\n",
    "|SAS|\n",
    "|Apache hadoop|\n",
    "|TensorFlow|"
   ]
  },
  {
   "cell_type": "markdown",
   "id": "279eb84f-dcf4-43d6-bd62-6ba9c60aba7c",
   "metadata": {},
   "source": [
    "<H3>Below are a few examples of evaluating arithmetic expressions in Python"
   ]
  },
  {
   "cell_type": "code",
   "execution_count": 11,
   "id": "ddd215f5-86b7-44ab-a4bf-2a60036c1463",
   "metadata": {},
   "outputs": [
    {
     "data": {
      "text/plain": [
       "17"
      ]
     },
     "execution_count": 11,
     "metadata": {},
     "output_type": "execute_result"
    }
   ],
   "source": [
    "#This a simple arithmetic expression to multiply then add integers\n",
    "(3*4)+5"
   ]
  },
  {
   "cell_type": "code",
   "execution_count": 10,
   "id": "fe46ff18-b324-4a11-a256-f99c20c667e2",
   "metadata": {},
   "outputs": [
    {
     "data": {
      "text/plain": [
       "3.3333333333333335"
      ]
     },
     "execution_count": 10,
     "metadata": {},
     "output_type": "execute_result"
    }
   ],
   "source": [
    "#This will convert 200 minutes to hours by diving by 60\n",
    "200/60"
   ]
  },
  {
   "cell_type": "markdown",
   "id": "3bb4e1fc-e44f-4414-a1b9-964a0d1206c9",
   "metadata": {},
   "source": [
    "<b>objective<b>\n",
    "* list popular languages for data science\n",
    "* list popular libraries for data science\n",
    "* list of well known data science tools\n",
    "* how to provide comments in the cell"
   ]
  },
  {
   "cell_type": "markdown",
   "id": "f4f4bed8-3295-4b0c-b0a3-320e5017d5d0",
   "metadata": {},
   "source": [
    "## Author\n",
    "Jinghao Wang"
   ]
  }
 ],
 "metadata": {
  "kernelspec": {
   "display_name": "Python 3 (ipykernel)",
   "language": "python",
   "name": "python3"
  },
  "language_info": {
   "codemirror_mode": {
    "name": "ipython",
    "version": 3
   },
   "file_extension": ".py",
   "mimetype": "text/x-python",
   "name": "python",
   "nbconvert_exporter": "python",
   "pygments_lexer": "ipython3",
   "version": "3.12.7"
  }
 },
 "nbformat": 4,
 "nbformat_minor": 5
}
